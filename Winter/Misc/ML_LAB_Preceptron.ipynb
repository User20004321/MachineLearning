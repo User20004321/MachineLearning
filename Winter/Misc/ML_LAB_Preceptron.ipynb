{
 "cells": [
  {
   "cell_type": "markdown",
   "id": "9a31c5a3",
   "metadata": {},
   "source": [
    "# The Perceptron\n",
    "\n",
    "What are our learning objectives for this lesson?\n",
    "\n",
    "* Learn about the Perceptron achitecture\n",
    "* Learn how to train a Perceptron model \n",
    "\n",
    "Content used in this lesson is based upon information in the following sources:\n",
    "* Marsland, Stephen. Machine Learning: An Algorithmic Perspective 2nd ed. (2015).\n",
    "\n",
    "## Lab Tasks\n",
    "\n",
    "1. Initialize weight vector $\\vec{w}$ with random values\n",
    "2. Implement an activation function\n",
    "3. Implement an update function\n",
    "\n",
    "### Initialize a weight vector\n",
    "\n",
    "#### What is the dimensionality of this vector?\n",
    "\n",
    "Let's first think through the dimensionality of our weight vector. How many entries should it have? Recall that the sum $h$ is given by\n",
    "\n",
    "$$h = \\sum_{i=1}^{m}w_i x_i $$\n",
    "\n",
    "where $w_i$ is the $i^{th}$ entry of the weight vector $\\vec{w}$ and $x_i$ is the $i^{th}$ entry of the input vector $\\vec{x}$. This means that for every input value we will need a weight value that goes with it. In another word, if there are $n$ entries in our input vector $\\vec{x}$, we will need a weight vector $\\vec{w}$ of length $n$. \n",
    "\n",
    "Recall that we want to include an additional bias node in our model where the input is always a non-zero value. Since we will be alterning the weight $w_b$ associated with the bias node at the same time as all other nodes in our network, it might be convinient to dedicate a spot in our weight vector $\\vec{w}$ that represents the weight $w_0$. Thus, for a problem with $n$ inputs, $\\vec{w}$ might look something like this:\n",
    "\n",
    "$$\\vec{w}^T = [w_0, w_1, w_2, ..., w_n]$$\n",
    "\n",
    "Notice that $\\vec{w}$ has a length of $n+1$. \n",
    "\n",
    "\n",
    "#### What initial value do we assign the vector?\n",
    "\n",
    "The initial value we assign the entries in our weight vector $\\vec{w}$ matters. If we assign very large values, then $h$ will also be a very large value regardless of our input values (given that input values are not all zeros). If we assign extremely small values, we run into the opposite problem, where $h$ will also be a extremely small value regardless of the input values. We also want to avoid initializing it with all zeros. If you're interested in understanding why, please take a look at this [stackexcahnge response](https://datascience.stackexchange.com/questions/26134/initialize-perceptron-weights-with-zero) that gives a concise explanation. \n",
    "\n",
    "In conclusion, it is ideal to have weights that are neither too big or too small. For neural networks (which we will get to soon), The last desired quaility in our initialization values would be non-uniformity. We don't want to assign a single value across the board, and the way to achieve this is by using pseudorandom generators. "
   ]
  },
  {
   "cell_type": "code",
   "execution_count": 159,
   "id": "d608acc8",
   "metadata": {},
   "outputs": [],
   "source": [
    "import numpy as np\n",
    "import math\n",
    "\n",
    "# define inputs\n",
    "inputs = np.array([[0,0],[0,1],[1,0],[1,1]])\n",
    "targets = np.array([[0],[1],[1],[1]])\n",
    "\n",
    "# capture how many nodes are needed by examining\n",
    "# how many entries is in a set of input\n",
    "n_in = np.shape(inputs)[1]\n",
    "        \n",
    "# how many values are we expecting as output?\n",
    "# in this case, we want a single value as our output\n",
    "n_out = 1\n",
    "        \n",
    "# η is the rate of which we learn from our data\n",
    "# typically, 0.1 < η < 0.4\n",
    "eta = 0.2"
   ]
  },
  {
   "cell_type": "code",
   "execution_count": 160,
   "id": "1ae39950",
   "metadata": {},
   "outputs": [
    {
     "name": "stdout",
     "output_type": "stream",
     "text": [
      "[[ 0.  0. -1.]\n",
      " [ 0.  1. -1.]\n",
      " [ 1.  0. -1.]\n",
      " [ 1.  1. -1.]]\n"
     ]
    }
   ],
   "source": [
    "# TODO: insert a bias value of 1 into the inputs\n",
    "\n",
    "def insert_bias(_inputs):\n",
    "    # complete this function\n",
    "    return np.concatenate((_inputs, -np.ones((np.shape(_inputs)[0],1))), axis=1)\n",
    "\n",
    "inputs = insert_bias(inputs)\n",
    "print(inputs)"
   ]
  },
  {
   "cell_type": "code",
   "execution_count": 161,
   "id": "92573251",
   "metadata": {},
   "outputs": [
    {
     "name": "stdout",
     "output_type": "stream",
     "text": [
      "weight vector:\n",
      "[[ 0.04292726]\n",
      " [ 0.02815636]\n",
      " [-0.0343111 ]]\n"
     ]
    }
   ],
   "source": [
    "# TODO: initialize a weight vector\n",
    "\n",
    "# how long does it have to be? \n",
    "# Don't forget the bias node that we are including\n",
    "# what initial values would you assign it?\n",
    "# -1\n",
    "# complete the initialization below\n",
    "\n",
    "weights = np.random.rand(n_in+1,n_out)*0.1-0.05\n",
    "\n",
    "\n",
    "print(f'weight vector:\\n{weights}')"
   ]
  },
  {
   "cell_type": "markdown",
   "id": "644f5576",
   "metadata": {},
   "source": [
    "### Implement an activation function\n",
    "\n",
    "The activation of each neuron $j$ using activation function $g$ is given by:\n",
    "\n",
    "$$y_j = g(\\sum_{i=0}^m w_{ij}x_i)=\\begin{cases}1 \\quad \\text{  if  }g(\\sum_{i=0}^m w_{ij}x_i)>0 \\\\ 0 \\quad \\text{  if  } g(\\sum_{i=0}^m w_{ij}x_i) \\leq 0 \\end{cases}$$\n",
    "\n",
    "Implement an activation function according to the above equation. Here are several things to consider:\n",
    "* What parameters do you need to pass to this function?\n",
    "* How could you use numpy to compute $\\vec{y}$ instead of writing a for loop to compute each $y_j$ individually? \n",
    "* What kind of object is this function going to return?\n"
   ]
  },
  {
   "cell_type": "code",
   "execution_count": 162,
   "id": "3ffc5c18",
   "metadata": {},
   "outputs": [],
   "source": [
    "# TODO: Calculate the y_j and save it to an activation array\n",
    "\n",
    "def calculate_activations(_inputs, _weights):\n",
    "    \n",
    "    # complete this function\n",
    "    activations = np.dot(_inputs, _weights)\n",
    "    print(activations)\n",
    "    return np.where(activations>0,1,0)\n",
    "\n"
   ]
  },
  {
   "cell_type": "markdown",
   "id": "48feed51",
   "metadata": {},
   "source": [
    "### Update the weight vector\n",
    "\n",
    "Let $y_j$ be the output of the $j^{th}$ neuron, and $t_j$ the target for that neuron, and $\\eta$ (eta) the learning rate. \n",
    "\n",
    "$$w_{ij} \\leftarrow w_{ij} - \\eta(y_j - t_j) \\cdot x_i$$"
   ]
  },
  {
   "cell_type": "code",
   "execution_count": 163,
   "id": "ce67efcb",
   "metadata": {},
   "outputs": [],
   "source": [
    "# TODO: adjust the weights based on the error between activation and target\n",
    "\n",
    "def update_weights(_inputs, _targets, _activations, _weights):\n",
    "    \n",
    "    # complete this funtion\n",
    "    weights = _weights - eta*np.dot(np.transpose(_inputs),_activations-_targets)\n",
    "    return weights\n"
   ]
  },
  {
   "cell_type": "markdown",
   "id": "dc1fcaf3",
   "metadata": {},
   "source": [
    "### Train the model\n",
    "\n",
    "Now that you have imeplemented the ```calculate_activations``` function and ```update_weights``` function, we can start training the Perceptron model. There are 3 steps in training:\n",
    "1. calculate the activation based on the current weights.\n",
    "2. update the weight vector based on the gradient of the error for this time step.\n",
    "3. repeat for $n$ iterations.\n",
    "\n"
   ]
  },
  {
   "cell_type": "code",
   "execution_count": 164,
   "id": "dbd7018e",
   "metadata": {},
   "outputs": [],
   "source": [
    "iterations = 5\n",
    "\n",
    "# TODO: implements the steps to be taken per iteration\n",
    "\n",
    "for i in range(iterations):\n",
    "    \n",
    "    # complete this loop\n",
    "    calculate_activations(inputs, weights)\n",
    "    update_weights(inputs, targets, activations, weights)"
   ]
  },
  {
   "cell_type": "markdown",
   "id": "7197fe22",
   "metadata": {},
   "source": [
    "### Test the model\n",
    "\n",
    "Now we feed the trained model a test set to see how accurate the model is. Run the cell below to see the accuracy of the model. "
   ]
  },
  {
   "cell_type": "code",
   "execution_count": 165,
   "id": "c3d1377b",
   "metadata": {},
   "outputs": [
    {
     "name": "stdout",
     "output_type": "stream",
     "text": [
      "accuracy: 75.0%\n"
     ]
    }
   ],
   "source": [
    "test = np.array([[1,0],[1,1],[0,1],[0,0]])\n",
    "test_target = np.array([[1],[1],[1],[0]])\n",
    "\n",
    "# insert bias into the test set\n",
    "test = insert_bias(test)\n",
    "\n",
    "# getting the activations array\n",
    "activations = calculate_activations(test, weights)\n",
    "\n",
    "# check the accuracy of your trained model\n",
    "accuracy = 0.0\n",
    "for i in range(len(test_target)):\n",
    "    if test_target[i] == activations[i]: accuracy += 1        \n",
    "print(f'accuracy: {(accuracy / len(test_target))*100.0}%')\n"
   ]
  },
  {
   "cell_type": "markdown",
   "id": "a1784053",
   "metadata": {},
   "source": [
    "### Bonus Task\n",
    "\n",
    "Train your model to learn the XOR operation. "
   ]
  },
  {
   "cell_type": "code",
   "execution_count": 166,
   "id": "adf7493b",
   "metadata": {},
   "outputs": [
    {
     "ename": "ModuleNotFoundError",
     "evalue": "No module named 'pcn'",
     "output_type": "error",
     "traceback": [
      "\u001b[1;31m---------------------------------------------------------------------------\u001b[0m",
      "\u001b[1;31mModuleNotFoundError\u001b[0m                       Traceback (most recent call last)",
      "\u001b[1;32m<ipython-input-166-c31bc58d50d2>\u001b[0m in \u001b[0;36m<module>\u001b[1;34m\u001b[0m\n\u001b[1;32m----> 1\u001b[1;33m \u001b[1;32mimport\u001b[0m \u001b[0mpcn\u001b[0m\u001b[1;33m\u001b[0m\u001b[1;33m\u001b[0m\u001b[0m\n\u001b[0m\u001b[0;32m      2\u001b[0m \u001b[0mpcn\u001b[0m\u001b[1;33m.\u001b[0m\u001b[0mpcntrain\u001b[0m\u001b[1;33m(\u001b[0m\u001b[0minputs\u001b[0m\u001b[1;33m,\u001b[0m \u001b[0mtargets\u001b[0m\u001b[1;33m,\u001b[0m\u001b[1;36m0.25\u001b[0m\u001b[1;33m,\u001b[0m\u001b[1;36m15\u001b[0m\u001b[1;33m)\u001b[0m\u001b[1;33m\u001b[0m\u001b[1;33m\u001b[0m\u001b[0m\n",
      "\u001b[1;31mModuleNotFoundError\u001b[0m: No module named 'pcn'"
     ]
    }
   ],
   "source": []
  },
  {
   "cell_type": "code",
   "execution_count": null,
   "id": "2682d93d",
   "metadata": {},
   "outputs": [],
   "source": []
  }
 ],
 "metadata": {
  "kernelspec": {
   "display_name": "base",
   "language": "python",
   "name": "python3"
  },
  "language_info": {
   "codemirror_mode": {
    "name": "ipython",
    "version": 3
   },
   "file_extension": ".py",
   "mimetype": "text/x-python",
   "name": "python",
   "nbconvert_exporter": "python",
   "pygments_lexer": "ipython3",
   "version": "3.9.13"
  },
  "vscode": {
   "interpreter": {
    "hash": "967d641c0a33fdd66f309d91abff85d21464085ea24454481cc94eea663f2b7b"
   }
  }
 },
 "nbformat": 4,
 "nbformat_minor": 5
}

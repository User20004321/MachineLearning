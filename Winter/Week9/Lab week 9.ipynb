{
 "cells": [
  {
   "cell_type": "code",
   "execution_count": 1,
   "id": "9c98c5a5",
   "metadata": {},
   "outputs": [
    {
     "name": "stdout",
     "output_type": "stream",
     "text": [
      "[2.61803399 0.38196601]\n",
      "[[-0.52573111 -0.85065081]\n",
      " [-0.85065081  0.52573111]]\n",
      "[[-0.52573111 -0.85065081]\n",
      " [-0.85065081  0.52573111]]\n"
     ]
    }
   ],
   "source": [
    "import random\n",
    "import numpy as np\n",
    "\n",
    "def test_covar():\n",
    "    x = []\n",
    "    for i in range(10):\n",
    "        x.append(random.random())\n",
    "    return x\n",
    "\n",
    "def test_svd():\n",
    "    a = np.eye(5)\n",
    "    b = np.array([[4,0,0],[0,3,0]])\n",
    "    c = np.array([[1,1],[1,2]])\n",
    "    u,s,vh = np.linalg.svd(c)\n",
    "    \n",
    "    print(s)\n",
    "    print(u)\n",
    "    print(vh)\n",
    "    \n",
    "if __name__ == '__main__':\n",
    "    test_svd()\n",
    "    #test_covar()"
   ]
  },
  {
   "cell_type": "code",
   "execution_count": null,
   "id": "e8f8e9f3",
   "metadata": {},
   "outputs": [],
   "source": []
  }
 ],
 "metadata": {
  "kernelspec": {
   "display_name": "Python 3 (ipykernel)",
   "language": "python",
   "name": "python3"
  },
  "language_info": {
   "codemirror_mode": {
    "name": "ipython",
    "version": 3
   },
   "file_extension": ".py",
   "mimetype": "text/x-python",
   "name": "python",
   "nbconvert_exporter": "python",
   "pygments_lexer": "ipython3",
   "version": "3.9.13"
  }
 },
 "nbformat": 4,
 "nbformat_minor": 5
}
